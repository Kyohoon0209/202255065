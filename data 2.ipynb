{
 "cells": [
  {
   "cell_type": "code",
   "execution_count": 38,
   "id": "3e7c2d44",
   "metadata": {},
   "outputs": [
    {
     "name": "stdout",
     "output_type": "stream",
     "text": [
      "평균 가격은 31.875\n",
      "[25, 20, 35, 15, 15, 30, 45, 30]\n",
      "평균 하루 수익은 155.0\n",
      "['bouffant', 'pixie', 'crew', 'bowl']\n"
     ]
    }
   ],
   "source": [
    "#hw3\n",
    "hairstyles = [\"bouffant\", \"pixie\", \"dreadlocks\", \"crew\", \"bowl\", \"bob\", \"mohawk\", \"flattop\"]\n",
    "prices = [30, 25, 40, 20, 20, 35, 50, 35]\n",
    "last_week = [2, 3, 5, 8, 4, 4, 6, 2]\n",
    "\n",
    "total_price = 0\n",
    "for price in prices:\n",
    "    total_price += price\n",
    "\n",
    "average_price = total_price / len(prices)\n",
    "print(\"평균 가격은\", average_price)\n",
    "\n",
    "new_prices = [price - 5 for price in prices]\n",
    "print(new_prices)\n",
    "\n",
    "total_revenue = 0\n",
    "for i in range(len(hairstyles)):\n",
    "    total_revenue += prices[i] * last_week[i]\n",
    "\n",
    "average_daily_revenue = total_revenue / 7\n",
    "print(\"평균 하루 수익은\", average_daily_revenue)\n",
    "\n",
    "cuts_under_30 = [hairstyles[i] for i in range(len(new_prices)) if new_prices[i] < 30]\n",
    "print(cuts_under_30)"
   ]
  },
  {
   "cell_type": "code",
   "execution_count": 71,
   "id": "719d25b7",
   "metadata": {},
   "outputs": [
    {
     "name": "stdout",
     "output_type": "stream",
     "text": [
      "[['physics', 98], ['calculus', 97], ['poetry', 85], ['history', 88]]\n",
      "[['politics', 80], ['latin', 96], ['dance', 97], ['architecture', 65], ['physics', 98], ['calculus', 97], ['poetry', 'Pass'], ['history', 88], ['computer science', 100], ['visual arts', 98]]\n"
     ]
    }
   ],
   "source": [
    "# hw2\n",
    "subjects = [\"physics\", \"calculus\", \"poetry\", \"history\"]\n",
    "grades = [98, 97, 85, 88]\n",
    "\n",
    "gradebook = [[\"physics\", 98], [\"calculus\", 97], [\"poetry\", 85], [\"history\", 88]]\n",
    "\n",
    "print(gradebook)\n",
    "\n",
    "gradebook.append([\"computer science\", 100])\n",
    "gradebook.append([\"visual arts\", 93])\n",
    "\n",
    "gradebook[5][1] += 5\n",
    "\n",
    "gradebook[2].remove(85)\n",
    "gradebook[2].append(\"Pass\")\n",
    "\n",
    "last_semester_gradebook = [[\"politics\", 80], [\"latin\", 96], [\"dance\", 97], [\"architecture\", 65]]\n",
    "full_gradebook = last_semester_gradebook + gradebook\n",
    "\n",
    "print(full_gradebook)\n"
   ]
  }
 ],
 "metadata": {
  "kernelspec": {
   "display_name": "Python 3 (ipykernel)",
   "language": "python",
   "name": "python3"
  },
  "language_info": {
   "codemirror_mode": {
    "name": "ipython",
    "version": 3
   },
   "file_extension": ".py",
   "mimetype": "text/x-python",
   "name": "python",
   "nbconvert_exporter": "python",
   "pygments_lexer": "ipython3",
   "version": "3.11.4"
  }
 },
 "nbformat": 4,
 "nbformat_minor": 5
}
