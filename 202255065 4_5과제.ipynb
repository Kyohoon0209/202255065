{
 "cells": [
  {
   "cell_type": "code",
   "execution_count": 5,
   "id": "cddf88c1",
   "metadata": {},
   "outputs": [],
   "source": [
    "import pandas as pd\n",
    "import numpy as np\n",
    "from matplotlib import pyplot as plt\n",
    "import seaborn"
   ]
  },
  {
   "cell_type": "code",
   "execution_count": 35,
   "id": "4d79ad98",
   "metadata": {},
   "outputs": [
    {
     "name": "stdout",
     "output_type": "stream",
     "text": [
      "   order               name  height(cm)\n",
      "0      1  George Washington         189\n",
      "1      2         John Adams         170\n",
      "2      3   Thomas Jefferson         189\n",
      "3      4      James Madison         163\n",
      "4      5       James Monroe         183\n"
     ]
    }
   ],
   "source": [
    "data = pd.read_csv('data/president_heights.csv')\n",
    "print(data.head())"
   ]
  },
  {
   "cell_type": "code",
   "execution_count": 42,
   "id": "02579dae",
   "metadata": {},
   "outputs": [
    {
     "name": "stdout",
     "output_type": "stream",
     "text": [
      "[189 170 189 163 183 171 185 168 173 183 173 173 175 178 183 193 178 173\n",
      " 174 183 183 168 170 178 182 180 183 178 182 188 175 179 183 193 182 183\n",
      " 177 185 188 188 182 185]\n"
     ]
    }
   ],
   "source": [
    "heights = np.array(data['height(cm)'])\n",
    "print(heights)"
   ]
  },
  {
   "cell_type": "code",
   "execution_count": 46,
   "id": "f8551368",
   "metadata": {},
   "outputs": [
    {
     "name": "stdout",
     "output_type": "stream",
     "text": [
      "Mean height = 179.73809523809524\n",
      "Standard deviation = 6.931843442745892\n",
      "Minimum height = 163\n",
      "Maximum height = 193\n",
      "25th percentile = 174.25\n",
      "Median = 182.0\n",
      "75th percentile = 183.0\n"
     ]
    }
   ],
   "source": [
    "mean_height = np.mean(heights)\n",
    "std_height = np.std(heights)\n",
    "min_height = np.min(heights)\n",
    "max_height = np.max(heights)\n",
    "percentile_25 = np.percentile(heights, 25)\n",
    "median_height = np.median(heights)\n",
    "percentile_75 = np.percentile(heights, 75)\n",
    "\n",
    "print(f\"Mean height = {mean_height}\")\n",
    "print(f\"Standard deviation = {std_height}\")\n",
    "print(f\"Minimum height = {min_height}\")\n",
    "print(f\"Maximum height = {max_height}\")\n",
    "print(f\"25th percentile = {percentile_25}\")\n",
    "print(f\"Median = {median_height}\")\n",
    "print(f\"75th percentile = {percentile_75}\")"
   ]
  },
  {
   "cell_type": "code",
   "execution_count": 50,
   "id": "33ff8846",
   "metadata": {},
   "outputs": [
    {
     "name": "stdout",
     "output_type": "stream",
     "text": [
      "The tallest president is Abraham Lincoln\n",
      "The smallest president is James Madison\n"
     ]
    }
   ],
   "source": [
    "max_idx = np.argmax(heights)\n",
    "min_idx = np.argmin(heights)\n",
    "max_name = data.iloc[max_idx]['name']\n",
    "min_name = data.iloc[min_idx]['name']\n",
    "\n",
    "print(\"The tallest president is\", max_name)\n",
    "print(\"The smallest president is\", min_name)"
   ]
  },
  {
   "cell_type": "code",
   "execution_count": 52,
   "id": "6aa91a3f",
   "metadata": {},
   "outputs": [
    {
     "data": {
      "image/png": "[encoded data removed]",
      "text/plain": [
       "<Figure size 640x480 with 1 Axes>"
      ]
     },
     "metadata": {},
     "output_type": "display_data"
    }
   ],
   "source": [
    "seaborn.set()\n",
    "plt.hist(heights, bins=10, edgecolor='k')\n",
    "plt.title('Height Distribution of US Presidents')\n",
    "plt.xlabel('Height (cm)')\n",
    "plt.ylabel('Number of Presidents')\n",
    "plt.show()"
   ]
  },
  {
   "cell_type": "code",
   "execution_count": null,
   "id": "dca54cdb",
   "metadata": {},
   "outputs": [],
   "source": []
  }
 ],
 "metadata": {
  "kernelspec": {
   "display_name": "Python 3 (ipykernel)",
   "language": "python",
   "name": "python3"
  },
  "language_info": {
   "codemirror_mode": {
    "name": "ipython",
    "version": 3
   },
   "file_extension": ".py",
   "mimetype": "text/x-python",
   "name": "python",
   "nbconvert_exporter": "python",
   "pygments_lexer": "ipython3",
   "version": "3.11.4"
  }
 },
 "nbformat": 4,
 "nbformat_minor": 5
}
