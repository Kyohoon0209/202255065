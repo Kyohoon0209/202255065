{
 "cells": [
  {
   "cell_type": "code",
   "execution_count": 31,
   "id": "08d877e4",
   "metadata": {},
   "outputs": [],
   "source": [
    "def get_chosun_name(family_name, month, day):\n",
    "    first_name_list = ['쌍', '쇠', '복', '돌', '팽', '육', '쌍', '개', '칠', '갑', '삼', '방']\n",
    "    second_name_list = ['봉', '구', '욕', '포', '똥', '삼', '식', '석', '놈', '님', '년', '돌', '단', '득', '방', '질', '장', '걸', '래', '룡', '동', '순', '자', '박', '창', '언', '것', '포', '만', '단', '국']\n",
    "    first_name = first_name_list[month - 1]\n",
    "    second_name = second_name_list[day - 1]\n",
    "    chosun_name = family_name + first_name + second_name\n",
    "    return chosun_name"
   ]
  },
  {
   "cell_type": "code",
   "execution_count": 32,
   "id": "5b811c47",
   "metadata": {},
   "outputs": [
    {
     "name": "stdout",
     "output_type": "stream",
     "text": [
      "당신의 성을 입력하세요: 구\n",
      "당신의 태어난 달을 입력하세요 (1-12): 9\n",
      "당신의 태어난 날짜를 입력하세요 (1-31): 19\n"
     ]
    }
   ],
   "source": [
    "family_name = input(\"당신의 성을 입력하세요: \")\n",
    "month = int(input(\"당신의 태어난 달을 입력하세요 (1-12): \"))\n",
    "day = int(input(\"당신의 태어난 날짜를 입력하세요 (1-31): \"))\n",
    "\n",
    "chosun_name = get_chosun_name(family_name, month, day)"
   ]
  },
  {
   "cell_type": "code",
   "execution_count": 33,
   "id": "9abc1db7",
   "metadata": {},
   "outputs": [
    {
     "name": "stdout",
     "output_type": "stream",
     "text": [
      "나의 조선시대 이름은 구칠래 입니다.\n"
     ]
    }
   ],
   "source": [
    "print(f\"나의 조선시대 이름은 {chosun_name} 입니다.\")"
   ]
  },
  {
   "cell_type": "code",
   "execution_count": null,
   "id": "b1f8cfa3",
   "metadata": {},
   "outputs": [],
   "source": []
  }
 ],
 "metadata": {
  "kernelspec": {
   "display_name": "Python 3 (ipykernel)",
   "language": "python",
   "name": "python3"
  },
  "language_info": {
   "codemirror_mode": {
    "name": "ipython",
    "version": 3
   },
   "file_extension": ".py",
   "mimetype": "text/x-python",
   "name": "python",
   "nbconvert_exporter": "python",
   "pygments_lexer": "ipython3",
   "version": "3.11.4"
  }
 },
 "nbformat": 4,
 "nbformat_minor": 5
}
